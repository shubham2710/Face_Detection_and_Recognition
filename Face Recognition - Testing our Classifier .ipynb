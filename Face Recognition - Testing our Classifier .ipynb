{
 "cells": [
  {
   "cell_type": "code",
   "execution_count": 38,
   "metadata": {},
   "outputs": [],
   "source": [
    "#1.load the training data (numpy arrays of all the persons)\n",
    "          # x - values are stored in numpy arrays\n",
    "          # y - values we need to assign for each person\n",
    "#2. Read Video using OpenCV\n",
    "#3. extract face out of it\n",
    "#4. use knn to find the prediction of face (int)\n",
    "#5. map the predicted id to name of user\n",
    "#6 . Display the prediction on the screen - bounding box and name"
   ]
  },
  {
   "cell_type": "code",
   "execution_count": 39,
   "metadata": {},
   "outputs": [],
   "source": [
    "import cv2\n",
    "import numpy as np\n",
    "import os"
   ]
  },
  {
   "cell_type": "code",
   "execution_count": null,
   "metadata": {},
   "outputs": [],
   "source": []
  },
  {
   "cell_type": "code",
   "execution_count": 40,
   "metadata": {},
   "outputs": [],
   "source": [
    "from sklearn.neighbors import KNeighborsClassifier\n",
    "\n",
    "face_pred=KNeighborsClassifier()\n"
   ]
  },
  {
   "cell_type": "code",
   "execution_count": 41,
   "metadata": {},
   "outputs": [
    {
     "name": "stdout",
     "output_type": "stream",
     "text": [
      "Loaded : abd.npy\n",
      "Loaded : virat.npy\n",
      "(610, 30000)\n",
      "(610, 1)\n",
      "(610, 30001)\n"
     ]
    },
    {
     "data": {
      "text/plain": [
       "KNeighborsClassifier(algorithm='auto', leaf_size=30, metric='minkowski',\n",
       "                     metric_params=None, n_jobs=None, n_neighbors=5, p=2,\n",
       "                     weights='uniform')"
      ]
     },
     "execution_count": 41,
     "metadata": {},
     "output_type": "execute_result"
    }
   ],
   "source": [
    "face_data = []\n",
    "dataset_path ='./data/'\n",
    "labels = []\n",
    "class_id = 0 \n",
    "names ={} # mapping between id-name\n",
    "\n",
    "# Data Preaparation \n",
    "\n",
    "for fx in os.listdir(dataset_path):\n",
    "    \n",
    "    if fx.endswith('.npy'):\n",
    "        print(\"Loaded : \" + fx)\n",
    "        \n",
    "        # mapping between id-name\n",
    "        names[class_id] = fx[:-4]\n",
    "        \n",
    "        \n",
    "        data_item = np.load(dataset_path + fx)\n",
    "        face_data.append(data_item)\n",
    "    \n",
    "        #Create Class Labels\n",
    "        target = class_id*np.ones((data_item.shape[0],))\n",
    "        class_id+=1\n",
    "        labels.append(target)\n",
    "        \n",
    "face_dataset = np.concatenate(face_data,axis = 0)\n",
    "face_labels = np.concatenate(labels,axis = 0).reshape((-1,1))\n",
    "print(face_dataset.shape)\n",
    "print(face_labels.shape)\n",
    "\n",
    "\n",
    "trainset = np.concatenate((face_dataset,face_labels),axis = 1)\n",
    "print(trainset.shape)\n",
    "face_pred.fit(trainset[:, :-1] , trainset[:,-1])"
   ]
  },
  {
   "cell_type": "code",
   "execution_count": 42,
   "metadata": {},
   "outputs": [],
   "source": [
    "#init Camera\n",
    "cap = cv2.VideoCapture('dataTest/abd and virat.mp4')\n",
    "\n",
    "#Face Detection\n",
    "face_cascade = cv2.CascadeClassifier(\"haarcascade_frontalface_alt.xml\")\n",
    "\n",
    "\n",
    "\n",
    "while True:\n",
    "    \n",
    "    ret,frame  = cap.read()\n",
    "    \n",
    "    if ret == False:\n",
    "        continue\n",
    "        \n",
    "    faces = face_cascade.detectMultiScale(frame,1.3,5)\n",
    "    for face in faces:\n",
    "        x,y,w,h = face\n",
    "        \n",
    "        #Extract (Crop out the required face) :  Region Of Interest\n",
    "        offset = 10\n",
    "        face_section = frame[y-offset:y+h+offset , x-offset:x+w+offset]\n",
    "        face_section  = cv2.resize(face_section,(100,100))\n",
    "        face_section = face_section.reshape((1,-1))\n",
    "        \n",
    "        #Predicted label out\n",
    "        out=face_pred.predict(face_section)\n",
    "        \n",
    "        \n",
    "        # Display on the screen the name and rectangle around it\n",
    "        pred_name = names[int(out)]\n",
    "        \n",
    "        cv2.putText(frame,pred_name,(x,y-10),cv2.FONT_HERSHEY_SIMPLEX,1,(255,0,0),2,cv2.LINE_AA)\n",
    "        cv2.rectangle(frame,(x,y),(x+w,y+h),2)\n",
    "        \n",
    "    cv2.imshow(\"Faces\",frame)\n",
    "    \n",
    "     # Wait for user input - q ,then you will stop the loop \n",
    "    key_pressed = cv2.waitKey(1) & 0xFF\n",
    "    if key_pressed == ord('q'):\n",
    "        break\n",
    "cap.release()\n",
    "cv2.destroyAllWindows()\n",
    "        \n",
    "        \n",
    "\n",
    "        \n",
    "        "
   ]
  },
  {
   "cell_type": "code",
   "execution_count": null,
   "metadata": {},
   "outputs": [],
   "source": []
  },
  {
   "cell_type": "code",
   "execution_count": null,
   "metadata": {},
   "outputs": [],
   "source": []
  },
  {
   "cell_type": "code",
   "execution_count": null,
   "metadata": {},
   "outputs": [],
   "source": []
  },
  {
   "cell_type": "code",
   "execution_count": null,
   "metadata": {},
   "outputs": [],
   "source": []
  }
 ],
 "metadata": {
  "kernelspec": {
   "display_name": "Python 3",
   "language": "python",
   "name": "python3"
  },
  "language_info": {
   "codemirror_mode": {
    "name": "ipython",
    "version": 3
   },
   "file_extension": ".py",
   "mimetype": "text/x-python",
   "name": "python",
   "nbconvert_exporter": "python",
   "pygments_lexer": "ipython3",
   "version": "3.7.6"
  }
 },
 "nbformat": 4,
 "nbformat_minor": 4
}

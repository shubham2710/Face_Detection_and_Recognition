{
 "cells": [
  {
   "cell_type": "code",
   "execution_count": null,
   "metadata": {},
   "outputs": [],
   "source": [
    "import cv2\n",
    "from matplotlib import pyplot as plt"
   ]
  },
  {
   "cell_type": "code",
   "execution_count": null,
   "metadata": {},
   "outputs": [],
   "source": [
    "#OpenCV - Working with Video Stream from WebCam\n",
    "import cv2"
   ]
  },
  {
   "cell_type": "code",
   "execution_count": null,
   "metadata": {},
   "outputs": [],
   "source": [
    "cap = cv2.VideoCapture(0)\n",
    "while True:\n",
    "    \n",
    "    ret,frame  = cap.read()\n",
    "    grayframe = cv2.cvtColor(frame,cv2.COLOR_BGR2GRAY)\n",
    "    \n",
    "    if ret == False:\n",
    "        continue\n",
    "        \n",
    "    \n",
    "    cv2.imshow(\"Gray Frame\",grayframe)\n",
    "    cv2.imshow(\"Video Frame\",frame)\n",
    "    \n",
    "    # Wait for user input - q ,then you will stop the loop \n",
    "    key_pressed = cv2.waitKey(1) & 0xFF\n",
    "    if key_pressed == ord('q'):\n",
    "        break\n",
    "        \n",
    "        \n",
    "cap.release()\n",
    "cv2.destroyAllWindows()"
   ]
  },
  {
   "cell_type": "code",
   "execution_count": null,
   "metadata": {},
   "outputs": [],
   "source": [
    "#Face Detection using Haarcascade_frontface"
   ]
  },
  {
   "cell_type": "code",
   "execution_count": null,
   "metadata": {},
   "outputs": [],
   "source": [
    "cap = cv2.VideoCapture(0)\n",
    "face_cascade = cv2.CascadeClassifier(\"haarcascade_frontalface_alt.xml\")\n",
    "while True:\n",
    "    \n",
    "    ret,frame  = cap.read()\n",
    "    grayframe = cv2.cvtColor(frame,cv2.COLOR_BGR2GRAY)\n",
    "    \n",
    "    if ret == False:\n",
    "        continue\n",
    "    faces = face_cascade.detectMultiScale(grayframe,1.3,5)\n",
    "    for (x,y,w,h) in faces :\n",
    "        cv2.rectangle(frame,(x,y),(x+w,y+h),(255,0,0),2)\n",
    "    \n",
    "    \n",
    "    cv2.imshow(\"Gray Frame\",grayframe)\n",
    "    cv2.imshow(\"Video Frame\",frame)\n",
    "    \n",
    "    # Wait for user input - q ,then you will stop the loop \n",
    "    key_pressed = cv2.waitKey(1) & 0xFF\n",
    "    if key_pressed == ord('q'):\n",
    "        break\n",
    "        \n",
    "        \n",
    "cap.release()\n",
    "cv2.destroyAllWindows()"
   ]
  },
  {
   "cell_type": "code",
   "execution_count": null,
   "metadata": {},
   "outputs": [],
   "source": [
    "#Face Recognition Project - Generating Faces as Training Data using WebCam \n"
   ]
  },
  {
   "cell_type": "code",
   "execution_count": null,
   "metadata": {},
   "outputs": [],
   "source": [
    "import numpy as np\n",
    "import cv2\n",
    "\n",
    "filename = input()\n",
    "\n",
    "cap = cv2.VideoCapture('dataTrain/virat.mp4')\n",
    "face_cascade = cv2.CascadeClassifier(\"haarcascade_frontalface_alt.xml\")\n",
    "skip =0\n",
    "face_data = []\n",
    "dataset_path ='./data/'\n",
    "while True:\n",
    "    \n",
    "    ret,frame  = cap.read()\n",
    "    \n",
    "    if ret == False:\n",
    "        continue\n",
    "        \n",
    "    faces = face_cascade.detectMultiScale(frame,1.3,5)\n",
    "    faces = sorted(faces,key=lambda f:f[2]*f[3])\n",
    "    #Pick the last face since because it largest acc to f[2] * f[3]\n",
    "    for face in faces[-1:]:\n",
    "        x,y,w,h = face\n",
    "        cv2.rectangle(frame,(x,y),(x+w,y+h),(0,255,255),2)\n",
    "        offset = 10\n",
    "        face_section = frame[y-offset:y+h+offset , x-offset:x+w+offset]\n",
    "        face_section  = cv2.resize(face_section,(100,100))\n",
    "        \n",
    "        \n",
    "        skip += 1\n",
    "        if skip%10 == 0:\n",
    "            face_data.append(face_section)\n",
    "            print(len(face_data))\n",
    "\n",
    "    \n",
    "    cv2.imshow(\"Video Frame\",frame)\n",
    "   # cv2.imshow(\"Video Frame\",face_section)\n",
    "    \n",
    "    \n",
    "    \n",
    "    # Wait for user input - q ,then you will stop the loop \n",
    "    key_pressed = cv2.waitKey(1) & 0xFF\n",
    "    if key_pressed == ord('q'):\n",
    "        break\n",
    "        \n",
    "        \n",
    "face_data = np.array(face_data)\n",
    "print(face_data.shape)\n",
    "face_data = face_data.reshape((face_data.shape[0],-1))\n",
    "print(face_section.shape)\n",
    "np.save(dataset_path + filename+'.npy',face_data)\n",
    "print(\"Data Stored at \" + dataset_path + filename+'.npy')\n",
    "\n",
    "\n",
    "        \n",
    "cap.release()\n",
    "cv2.destroyAllWindows()"
   ]
  },
  {
   "cell_type": "code",
   "execution_count": null,
   "metadata": {},
   "outputs": [],
   "source": []
  },
  {
   "cell_type": "code",
   "execution_count": null,
   "metadata": {},
   "outputs": [],
   "source": []
  },
  {
   "cell_type": "code",
   "execution_count": null,
   "metadata": {},
   "outputs": [],
   "source": []
  },
  {
   "cell_type": "code",
   "execution_count": null,
   "metadata": {},
   "outputs": [],
   "source": []
  }
 ],
 "metadata": {
  "kernelspec": {
   "display_name": "Python 3",
   "language": "python",
   "name": "python3"
  },
  "language_info": {
   "codemirror_mode": {
    "name": "ipython",
    "version": 3
   },
   "file_extension": ".py",
   "mimetype": "text/x-python",
   "name": "python",
   "nbconvert_exporter": "python",
   "pygments_lexer": "ipython3",
   "version": "3.7.6"
  }
 },
 "nbformat": 4,
 "nbformat_minor": 4
}
